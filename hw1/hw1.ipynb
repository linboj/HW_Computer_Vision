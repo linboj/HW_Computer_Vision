{
 "metadata": {
  "language_info": {
   "codemirror_mode": {
    "name": "ipython",
    "version": 3
   },
   "file_extension": ".py",
   "mimetype": "text/x-python",
   "name": "python",
   "nbconvert_exporter": "python",
   "pygments_lexer": "ipython3",
   "version": "3.8.2-final"
  },
  "orig_nbformat": 2,
  "kernelspec": {
   "name": "python_defaultSpec_1600777887019",
   "display_name": "Python 3.8.2 64-bit"
  }
 },
 "nbformat": 4,
 "nbformat_minor": 2,
 "cells": [
  {
   "cell_type": "code",
   "execution_count": 1,
   "metadata": {},
   "outputs": [],
   "source": [
    "import cv2\n",
    "import numpy as np"
   ]
  },
  {
   "cell_type": "code",
   "execution_count": 12,
   "metadata": {},
   "outputs": [],
   "source": [
    "filepath='D:\\\\report\\\\course_data\\\\109-1\\\\CV\\\\homework\\\\lena.bmp'\n",
    "outpath='D:\\\\report\\\\course_data\\\\109-1\\\\CV\\\\homework\\\\hw1\\\\'\n",
    "img_ori=cv2.imread(filepath)\n",
    "h,w=img_ori.shape[0:2]"
   ]
  },
  {
   "cell_type": "code",
   "execution_count": 3,
   "metadata": {},
   "outputs": [],
   "source": [
    "#(a)upside-down\n",
    "img_UD=np.zeros(img_ori.shape,np.uint8)\n",
    "for i in range(h):\n",
    "    img_UD[i,:,:]=img_ori[h-1-i,:,:]"
   ]
  },
  {
   "cell_type": "code",
   "execution_count": 4,
   "metadata": {},
   "outputs": [],
   "source": [
    "#(b)right-side-left\n",
    "img_RSL=np.zeros(img_ori.shape,np.uint8)\n",
    "for i in range(w):\n",
    "    img_RSL[:,i,:]=img_ori[:,w-1-i,:]"
   ]
  },
  {
   "cell_type": "code",
   "execution_count": 5,
   "metadata": {},
   "outputs": [],
   "source": [
    "#(c)diagonally flip\n",
    "img_DF=np.zeros(img_ori.shape,np.uint8)\n",
    "for i in range(h):\n",
    "    for j in range(w):\n",
    "        img_DF[i,j,:]=img_ori[j,i,:]"
   ]
  },
  {
   "cell_type": "code",
   "execution_count": 6,
   "metadata": {},
   "outputs": [],
   "source": [
    "#(d)rotate 45 degrees clockwise\n",
    "M=cv2.getRotationMatrix2D((w//2,h//2),-45,1.0)\n",
    "img_rot=cv2.warpAffine(img_ori,M,(w,h))"
   ]
  },
  {
   "cell_type": "code",
   "execution_count": 7,
   "metadata": {},
   "outputs": [],
   "source": [
    "#(e) shrink in half\n",
    "img_resize=cv2.resize(img_ori,(w//2,h//2))"
   ]
  },
  {
   "cell_type": "code",
   "execution_count": 8,
   "metadata": {},
   "outputs": [],
   "source": [
    "#(f) binarize at 128 to get a binary image\n",
    "_,img_binary=cv2.threshold(img_ori,128,255,cv2.THRESH_BINARY)"
   ]
  },
  {
   "cell_type": "code",
   "execution_count": 9,
   "metadata": {},
   "outputs": [],
   "source": [
    "cv2.imshow(\"ori\",img_ori)\n",
    "cv2.imshow(\"a\",img_UD)\n",
    "cv2.imshow(\"b\",img_RSL)\n",
    "cv2.imshow(\"c\",img_DF)\n",
    "cv2.imshow(\"d\",img_rot)\n",
    "cv2.imshow(\"e\",img_resize)\n",
    "cv2.imshow(\"f\",img_binary)\n",
    "cv2.waitKey()\n",
    "cv2.destroyAllWindows()"
   ]
  },
  {
   "cell_type": "code",
   "execution_count": 13,
   "metadata": {},
   "outputs": [
    {
     "output_type": "execute_result",
     "data": {
      "text/plain": "True"
     },
     "metadata": {},
     "execution_count": 13
    }
   ],
   "source": [
    "cv2.imwrite(outpath+'a.png',img_UD)\n",
    "cv2.imwrite(outpath+'b.png',img_RSL)\n",
    "cv2.imwrite(outpath+'c.png',img_DF)\n",
    "cv2.imwrite(outpath+'d.png',img_rot)\n",
    "cv2.imwrite(outpath+'e.png',img_resize)\n",
    "cv2.imwrite(outpath+'f.png',img_binary)"
   ]
  }
 ]
}